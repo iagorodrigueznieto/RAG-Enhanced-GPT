{
 "cells": [
  {
   "cell_type": "markdown",
   "metadata": {},
   "source": [
    "Instalamos las dependencias"
   ]
  },
  {
   "cell_type": "code",
   "execution_count": 12,
   "metadata": {},
   "outputs": [
    {
     "name": "stderr",
     "output_type": "stream",
     "text": [
      "huggingface/tokenizers: The current process just got forked, after parallelism has already been used. Disabling parallelism to avoid deadlocks...\n",
      "To disable this warning, you can either:\n",
      "\t- Avoid using `tokenizers` before the fork if possible\n",
      "\t- Explicitly set the environment variable TOKENIZERS_PARALLELISM=(true | false)\n"
     ]
    },
    {
     "name": "stdout",
     "output_type": "stream",
     "text": [
      "Requirement already satisfied: requests in /home/bigdata/miniconda3/envs/bda/lib/python3.13/site-packages (2.32.3)\n",
      "Requirement already satisfied: charset-normalizer<4,>=2 in /home/bigdata/miniconda3/envs/bda/lib/python3.13/site-packages (from requests) (3.4.0)\n",
      "Requirement already satisfied: idna<4,>=2.5 in /home/bigdata/miniconda3/envs/bda/lib/python3.13/site-packages (from requests) (3.10)\n",
      "Requirement already satisfied: urllib3<3,>=1.21.1 in /home/bigdata/miniconda3/envs/bda/lib/python3.13/site-packages (from requests) (2.2.3)\n",
      "Requirement already satisfied: certifi>=2017.4.17 in /home/bigdata/miniconda3/envs/bda/lib/python3.13/site-packages (from requests) (2024.12.14)\n"
     ]
    },
    {
     "name": "stderr",
     "output_type": "stream",
     "text": [
      "huggingface/tokenizers: The current process just got forked, after parallelism has already been used. Disabling parallelism to avoid deadlocks...\n",
      "To disable this warning, you can either:\n",
      "\t- Avoid using `tokenizers` before the fork if possible\n",
      "\t- Explicitly set the environment variable TOKENIZERS_PARALLELISM=(true | false)\n"
     ]
    },
    {
     "name": "stdout",
     "output_type": "stream",
     "text": [
      "Requirement already satisfied: BeautifulSoup4 in /home/bigdata/miniconda3/envs/bda/lib/python3.13/site-packages (4.12.3)\n",
      "Requirement already satisfied: soupsieve>1.2 in /home/bigdata/miniconda3/envs/bda/lib/python3.13/site-packages (from BeautifulSoup4) (2.6)\n"
     ]
    },
    {
     "name": "stderr",
     "output_type": "stream",
     "text": [
      "huggingface/tokenizers: The current process just got forked, after parallelism has already been used. Disabling parallelism to avoid deadlocks...\n",
      "To disable this warning, you can either:\n",
      "\t- Avoid using `tokenizers` before the fork if possible\n",
      "\t- Explicitly set the environment variable TOKENIZERS_PARALLELISM=(true | false)\n"
     ]
    },
    {
     "name": "stdout",
     "output_type": "stream",
     "text": [
      "Requirement already satisfied: chromadb in /home/bigdata/miniconda3/envs/bda/lib/python3.13/site-packages (0.5.23)\n",
      "Requirement already satisfied: sentence-transformers in /home/bigdata/miniconda3/envs/bda/lib/python3.13/site-packages (3.3.1)\n",
      "Requirement already satisfied: langchain_huggingface in /home/bigdata/miniconda3/envs/bda/lib/python3.13/site-packages (0.1.2)\n",
      "Requirement already satisfied: langchain_chroma in /home/bigdata/miniconda3/envs/bda/lib/python3.13/site-packages (0.1.4)\n",
      "Requirement already satisfied: build>=1.0.3 in /home/bigdata/miniconda3/envs/bda/lib/python3.13/site-packages (from chromadb) (1.2.2.post1)\n",
      "Requirement already satisfied: pydantic>=1.9 in /home/bigdata/miniconda3/envs/bda/lib/python3.13/site-packages (from chromadb) (2.10.4)\n",
      "Requirement already satisfied: chroma-hnswlib==0.7.6 in /home/bigdata/miniconda3/envs/bda/lib/python3.13/site-packages (from chromadb) (0.7.6)\n",
      "Requirement already satisfied: fastapi>=0.95.2 in /home/bigdata/miniconda3/envs/bda/lib/python3.13/site-packages (from chromadb) (0.115.6)\n",
      "Requirement already satisfied: uvicorn>=0.18.3 in /home/bigdata/miniconda3/envs/bda/lib/python3.13/site-packages (from uvicorn[standard]>=0.18.3->chromadb) (0.34.0)\n",
      "Requirement already satisfied: numpy>=1.22.5 in /home/bigdata/miniconda3/envs/bda/lib/python3.13/site-packages (from chromadb) (1.26.4)\n",
      "Requirement already satisfied: posthog>=2.4.0 in /home/bigdata/miniconda3/envs/bda/lib/python3.13/site-packages (from chromadb) (3.7.4)\n",
      "Requirement already satisfied: typing_extensions>=4.5.0 in /home/bigdata/miniconda3/envs/bda/lib/python3.13/site-packages (from chromadb) (4.12.2)\n",
      "Requirement already satisfied: onnxruntime>=1.14.1 in /home/bigdata/miniconda3/envs/bda/lib/python3.13/site-packages (from chromadb) (1.20.1)\n",
      "Requirement already satisfied: opentelemetry-api>=1.2.0 in /home/bigdata/miniconda3/envs/bda/lib/python3.13/site-packages (from chromadb) (1.29.0)\n",
      "Requirement already satisfied: opentelemetry-exporter-otlp-proto-grpc>=1.2.0 in /home/bigdata/miniconda3/envs/bda/lib/python3.13/site-packages (from chromadb) (1.29.0)\n",
      "Requirement already satisfied: opentelemetry-instrumentation-fastapi>=0.41b0 in /home/bigdata/miniconda3/envs/bda/lib/python3.13/site-packages (from chromadb) (0.50b0)\n",
      "Requirement already satisfied: opentelemetry-sdk>=1.2.0 in /home/bigdata/miniconda3/envs/bda/lib/python3.13/site-packages (from chromadb) (1.29.0)\n",
      "Requirement already satisfied: tokenizers<=0.20.3,>=0.13.2 in /home/bigdata/miniconda3/envs/bda/lib/python3.13/site-packages (from chromadb) (0.20.3)\n",
      "Requirement already satisfied: pypika>=0.48.9 in /home/bigdata/miniconda3/envs/bda/lib/python3.13/site-packages (from chromadb) (0.48.9)\n",
      "Requirement already satisfied: tqdm>=4.65.0 in /home/bigdata/miniconda3/envs/bda/lib/python3.13/site-packages (from chromadb) (4.67.1)\n",
      "Requirement already satisfied: overrides>=7.3.1 in /home/bigdata/miniconda3/envs/bda/lib/python3.13/site-packages (from chromadb) (7.7.0)\n",
      "Requirement already satisfied: importlib-resources in /home/bigdata/miniconda3/envs/bda/lib/python3.13/site-packages (from chromadb) (6.4.5)\n",
      "Requirement already satisfied: grpcio>=1.58.0 in /home/bigdata/miniconda3/envs/bda/lib/python3.13/site-packages (from chromadb) (1.68.1)\n",
      "Requirement already satisfied: bcrypt>=4.0.1 in /home/bigdata/miniconda3/envs/bda/lib/python3.13/site-packages (from chromadb) (4.2.1)\n",
      "Requirement already satisfied: typer>=0.9.0 in /home/bigdata/miniconda3/envs/bda/lib/python3.13/site-packages (from chromadb) (0.15.1)\n",
      "Requirement already satisfied: kubernetes>=28.1.0 in /home/bigdata/miniconda3/envs/bda/lib/python3.13/site-packages (from chromadb) (31.0.0)\n",
      "Requirement already satisfied: tenacity>=8.2.3 in /home/bigdata/miniconda3/envs/bda/lib/python3.13/site-packages (from chromadb) (9.0.0)\n",
      "Requirement already satisfied: PyYAML>=6.0.0 in /home/bigdata/miniconda3/envs/bda/lib/python3.13/site-packages (from chromadb) (6.0.2)\n",
      "Requirement already satisfied: mmh3>=4.0.1 in /home/bigdata/miniconda3/envs/bda/lib/python3.13/site-packages (from chromadb) (5.0.1)\n",
      "Requirement already satisfied: orjson>=3.9.12 in /home/bigdata/miniconda3/envs/bda/lib/python3.13/site-packages (from chromadb) (3.10.12)\n",
      "Requirement already satisfied: httpx>=0.27.0 in /home/bigdata/miniconda3/envs/bda/lib/python3.13/site-packages (from chromadb) (0.27.2)\n",
      "Requirement already satisfied: rich>=10.11.0 in /home/bigdata/miniconda3/envs/bda/lib/python3.13/site-packages (from chromadb) (13.9.4)\n",
      "Requirement already satisfied: transformers<5.0.0,>=4.41.0 in /home/bigdata/miniconda3/envs/bda/lib/python3.13/site-packages (from sentence-transformers) (4.46.3)\n",
      "Requirement already satisfied: torch>=1.11.0 in /home/bigdata/miniconda3/envs/bda/lib/python3.13/site-packages (from sentence-transformers) (2.5.1)\n",
      "Requirement already satisfied: scikit-learn in /home/bigdata/miniconda3/envs/bda/lib/python3.13/site-packages (from sentence-transformers) (1.6.0)\n",
      "Requirement already satisfied: scipy in /home/bigdata/miniconda3/envs/bda/lib/python3.13/site-packages (from sentence-transformers) (1.14.1)\n",
      "Requirement already satisfied: huggingface-hub>=0.20.0 in /home/bigdata/miniconda3/envs/bda/lib/python3.13/site-packages (from sentence-transformers) (0.27.0)\n",
      "Requirement already satisfied: Pillow in /home/bigdata/miniconda3/envs/bda/lib/python3.13/site-packages (from sentence-transformers) (11.0.0)\n",
      "Requirement already satisfied: langchain-core<0.4.0,>=0.3.15 in /home/bigdata/miniconda3/envs/bda/lib/python3.13/site-packages (from langchain_huggingface) (0.3.26)\n",
      "Requirement already satisfied: packaging>=19.1 in /home/bigdata/miniconda3/envs/bda/lib/python3.13/site-packages (from build>=1.0.3->chromadb) (24.2)\n",
      "Requirement already satisfied: pyproject_hooks in /home/bigdata/miniconda3/envs/bda/lib/python3.13/site-packages (from build>=1.0.3->chromadb) (1.2.0)\n",
      "Requirement already satisfied: starlette<0.42.0,>=0.40.0 in /home/bigdata/miniconda3/envs/bda/lib/python3.13/site-packages (from fastapi>=0.95.2->chromadb) (0.41.3)\n",
      "Requirement already satisfied: anyio in /home/bigdata/miniconda3/envs/bda/lib/python3.13/site-packages (from httpx>=0.27.0->chromadb) (4.7.0)\n",
      "Requirement already satisfied: certifi in /home/bigdata/miniconda3/envs/bda/lib/python3.13/site-packages (from httpx>=0.27.0->chromadb) (2024.12.14)\n",
      "Requirement already satisfied: httpcore==1.* in /home/bigdata/miniconda3/envs/bda/lib/python3.13/site-packages (from httpx>=0.27.0->chromadb) (1.0.7)\n",
      "Requirement already satisfied: idna in /home/bigdata/miniconda3/envs/bda/lib/python3.13/site-packages (from httpx>=0.27.0->chromadb) (3.10)\n",
      "Requirement already satisfied: sniffio in /home/bigdata/miniconda3/envs/bda/lib/python3.13/site-packages (from httpx>=0.27.0->chromadb) (1.3.1)\n",
      "Requirement already satisfied: h11<0.15,>=0.13 in /home/bigdata/miniconda3/envs/bda/lib/python3.13/site-packages (from httpcore==1.*->httpx>=0.27.0->chromadb) (0.14.0)\n",
      "Requirement already satisfied: filelock in /home/bigdata/miniconda3/envs/bda/lib/python3.13/site-packages (from huggingface-hub>=0.20.0->sentence-transformers) (3.16.1)\n",
      "Requirement already satisfied: fsspec>=2023.5.0 in /home/bigdata/miniconda3/envs/bda/lib/python3.13/site-packages (from huggingface-hub>=0.20.0->sentence-transformers) (2024.10.0)\n",
      "Requirement already satisfied: requests in /home/bigdata/miniconda3/envs/bda/lib/python3.13/site-packages (from huggingface-hub>=0.20.0->sentence-transformers) (2.32.3)\n",
      "Requirement already satisfied: six>=1.9.0 in /home/bigdata/miniconda3/envs/bda/lib/python3.13/site-packages (from kubernetes>=28.1.0->chromadb) (1.17.0)\n",
      "Requirement already satisfied: python-dateutil>=2.5.3 in /home/bigdata/miniconda3/envs/bda/lib/python3.13/site-packages (from kubernetes>=28.1.0->chromadb) (2.9.0.post0)\n",
      "Requirement already satisfied: google-auth>=1.0.1 in /home/bigdata/miniconda3/envs/bda/lib/python3.13/site-packages (from kubernetes>=28.1.0->chromadb) (2.37.0)\n",
      "Requirement already satisfied: websocket-client!=0.40.0,!=0.41.*,!=0.42.*,>=0.32.0 in /home/bigdata/miniconda3/envs/bda/lib/python3.13/site-packages (from kubernetes>=28.1.0->chromadb) (1.8.0)\n",
      "Requirement already satisfied: requests-oauthlib in /home/bigdata/miniconda3/envs/bda/lib/python3.13/site-packages (from kubernetes>=28.1.0->chromadb) (2.0.0)\n",
      "Requirement already satisfied: oauthlib>=3.2.2 in /home/bigdata/miniconda3/envs/bda/lib/python3.13/site-packages (from kubernetes>=28.1.0->chromadb) (3.2.2)\n",
      "Requirement already satisfied: urllib3>=1.24.2 in /home/bigdata/miniconda3/envs/bda/lib/python3.13/site-packages (from kubernetes>=28.1.0->chromadb) (2.2.3)\n",
      "Requirement already satisfied: durationpy>=0.7 in /home/bigdata/miniconda3/envs/bda/lib/python3.13/site-packages (from kubernetes>=28.1.0->chromadb) (0.9)\n",
      "Requirement already satisfied: jsonpatch<2.0,>=1.33 in /home/bigdata/miniconda3/envs/bda/lib/python3.13/site-packages (from langchain-core<0.4.0,>=0.3.15->langchain_huggingface) (1.33)\n",
      "Requirement already satisfied: langsmith<0.3,>=0.1.125 in /home/bigdata/miniconda3/envs/bda/lib/python3.13/site-packages (from langchain-core<0.4.0,>=0.3.15->langchain_huggingface) (0.2.3)\n",
      "Requirement already satisfied: coloredlogs in /home/bigdata/miniconda3/envs/bda/lib/python3.13/site-packages (from onnxruntime>=1.14.1->chromadb) (15.0.1)\n",
      "Requirement already satisfied: flatbuffers in /home/bigdata/miniconda3/envs/bda/lib/python3.13/site-packages (from onnxruntime>=1.14.1->chromadb) (24.3.25)\n",
      "Requirement already satisfied: protobuf in /home/bigdata/miniconda3/envs/bda/lib/python3.13/site-packages (from onnxruntime>=1.14.1->chromadb) (5.29.2)\n",
      "Requirement already satisfied: sympy in /home/bigdata/miniconda3/envs/bda/lib/python3.13/site-packages (from onnxruntime>=1.14.1->chromadb) (1.13.1)\n",
      "Requirement already satisfied: deprecated>=1.2.6 in /home/bigdata/miniconda3/envs/bda/lib/python3.13/site-packages (from opentelemetry-api>=1.2.0->chromadb) (1.2.15)\n",
      "Requirement already satisfied: importlib-metadata<=8.5.0,>=6.0 in /home/bigdata/miniconda3/envs/bda/lib/python3.13/site-packages (from opentelemetry-api>=1.2.0->chromadb) (8.5.0)\n",
      "Requirement already satisfied: googleapis-common-protos~=1.52 in /home/bigdata/miniconda3/envs/bda/lib/python3.13/site-packages (from opentelemetry-exporter-otlp-proto-grpc>=1.2.0->chromadb) (1.66.0)\n",
      "Requirement already satisfied: opentelemetry-exporter-otlp-proto-common==1.29.0 in /home/bigdata/miniconda3/envs/bda/lib/python3.13/site-packages (from opentelemetry-exporter-otlp-proto-grpc>=1.2.0->chromadb) (1.29.0)\n",
      "Requirement already satisfied: opentelemetry-proto==1.29.0 in /home/bigdata/miniconda3/envs/bda/lib/python3.13/site-packages (from opentelemetry-exporter-otlp-proto-grpc>=1.2.0->chromadb) (1.29.0)\n",
      "Requirement already satisfied: opentelemetry-instrumentation-asgi==0.50b0 in /home/bigdata/miniconda3/envs/bda/lib/python3.13/site-packages (from opentelemetry-instrumentation-fastapi>=0.41b0->chromadb) (0.50b0)\n",
      "Requirement already satisfied: opentelemetry-instrumentation==0.50b0 in /home/bigdata/miniconda3/envs/bda/lib/python3.13/site-packages (from opentelemetry-instrumentation-fastapi>=0.41b0->chromadb) (0.50b0)\n",
      "Requirement already satisfied: opentelemetry-semantic-conventions==0.50b0 in /home/bigdata/miniconda3/envs/bda/lib/python3.13/site-packages (from opentelemetry-instrumentation-fastapi>=0.41b0->chromadb) (0.50b0)\n",
      "Requirement already satisfied: opentelemetry-util-http==0.50b0 in /home/bigdata/miniconda3/envs/bda/lib/python3.13/site-packages (from opentelemetry-instrumentation-fastapi>=0.41b0->chromadb) (0.50b0)\n",
      "Requirement already satisfied: wrapt<2.0.0,>=1.0.0 in /home/bigdata/miniconda3/envs/bda/lib/python3.13/site-packages (from opentelemetry-instrumentation==0.50b0->opentelemetry-instrumentation-fastapi>=0.41b0->chromadb) (1.17.0)\n",
      "Requirement already satisfied: asgiref~=3.0 in /home/bigdata/miniconda3/envs/bda/lib/python3.13/site-packages (from opentelemetry-instrumentation-asgi==0.50b0->opentelemetry-instrumentation-fastapi>=0.41b0->chromadb) (3.8.1)\n",
      "Requirement already satisfied: monotonic>=1.5 in /home/bigdata/miniconda3/envs/bda/lib/python3.13/site-packages (from posthog>=2.4.0->chromadb) (1.6)\n",
      "Requirement already satisfied: backoff>=1.10.0 in /home/bigdata/miniconda3/envs/bda/lib/python3.13/site-packages (from posthog>=2.4.0->chromadb) (2.2.1)\n",
      "Requirement already satisfied: annotated-types>=0.6.0 in /home/bigdata/miniconda3/envs/bda/lib/python3.13/site-packages (from pydantic>=1.9->chromadb) (0.7.0)\n",
      "Requirement already satisfied: pydantic-core==2.27.2 in /home/bigdata/miniconda3/envs/bda/lib/python3.13/site-packages (from pydantic>=1.9->chromadb) (2.27.2)\n",
      "Requirement already satisfied: markdown-it-py>=2.2.0 in /home/bigdata/miniconda3/envs/bda/lib/python3.13/site-packages (from rich>=10.11.0->chromadb) (3.0.0)\n",
      "Requirement already satisfied: pygments<3.0.0,>=2.13.0 in /home/bigdata/miniconda3/envs/bda/lib/python3.13/site-packages (from rich>=10.11.0->chromadb) (2.18.0)\n",
      "Requirement already satisfied: networkx in /home/bigdata/miniconda3/envs/bda/lib/python3.13/site-packages (from torch>=1.11.0->sentence-transformers) (3.4.2)\n",
      "Requirement already satisfied: jinja2 in /home/bigdata/miniconda3/envs/bda/lib/python3.13/site-packages (from torch>=1.11.0->sentence-transformers) (3.1.4)\n",
      "Requirement already satisfied: nvidia-cuda-nvrtc-cu12==12.4.127 in /home/bigdata/miniconda3/envs/bda/lib/python3.13/site-packages (from torch>=1.11.0->sentence-transformers) (12.4.127)\n",
      "Requirement already satisfied: nvidia-cuda-runtime-cu12==12.4.127 in /home/bigdata/miniconda3/envs/bda/lib/python3.13/site-packages (from torch>=1.11.0->sentence-transformers) (12.4.127)\n",
      "Requirement already satisfied: nvidia-cuda-cupti-cu12==12.4.127 in /home/bigdata/miniconda3/envs/bda/lib/python3.13/site-packages (from torch>=1.11.0->sentence-transformers) (12.4.127)\n",
      "Requirement already satisfied: nvidia-cudnn-cu12==9.1.0.70 in /home/bigdata/miniconda3/envs/bda/lib/python3.13/site-packages (from torch>=1.11.0->sentence-transformers) (9.1.0.70)\n",
      "Requirement already satisfied: nvidia-cublas-cu12==12.4.5.8 in /home/bigdata/miniconda3/envs/bda/lib/python3.13/site-packages (from torch>=1.11.0->sentence-transformers) (12.4.5.8)\n",
      "Requirement already satisfied: nvidia-cufft-cu12==11.2.1.3 in /home/bigdata/miniconda3/envs/bda/lib/python3.13/site-packages (from torch>=1.11.0->sentence-transformers) (11.2.1.3)\n",
      "Requirement already satisfied: nvidia-curand-cu12==10.3.5.147 in /home/bigdata/miniconda3/envs/bda/lib/python3.13/site-packages (from torch>=1.11.0->sentence-transformers) (10.3.5.147)\n",
      "Requirement already satisfied: nvidia-cusolver-cu12==11.6.1.9 in /home/bigdata/miniconda3/envs/bda/lib/python3.13/site-packages (from torch>=1.11.0->sentence-transformers) (11.6.1.9)\n",
      "Requirement already satisfied: nvidia-cusparse-cu12==12.3.1.170 in /home/bigdata/miniconda3/envs/bda/lib/python3.13/site-packages (from torch>=1.11.0->sentence-transformers) (12.3.1.170)\n",
      "Requirement already satisfied: nvidia-nccl-cu12==2.21.5 in /home/bigdata/miniconda3/envs/bda/lib/python3.13/site-packages (from torch>=1.11.0->sentence-transformers) (2.21.5)\n",
      "Requirement already satisfied: nvidia-nvtx-cu12==12.4.127 in /home/bigdata/miniconda3/envs/bda/lib/python3.13/site-packages (from torch>=1.11.0->sentence-transformers) (12.4.127)\n",
      "Requirement already satisfied: nvidia-nvjitlink-cu12==12.4.127 in /home/bigdata/miniconda3/envs/bda/lib/python3.13/site-packages (from torch>=1.11.0->sentence-transformers) (12.4.127)\n",
      "Requirement already satisfied: setuptools in /home/bigdata/miniconda3/envs/bda/lib/python3.13/site-packages (from torch>=1.11.0->sentence-transformers) (75.1.0)\n",
      "Requirement already satisfied: mpmath<1.4,>=1.1.0 in /home/bigdata/miniconda3/envs/bda/lib/python3.13/site-packages (from sympy->onnxruntime>=1.14.1->chromadb) (1.3.0)\n",
      "Requirement already satisfied: regex!=2019.12.17 in /home/bigdata/miniconda3/envs/bda/lib/python3.13/site-packages (from transformers<5.0.0,>=4.41.0->sentence-transformers) (2024.11.6)\n",
      "Requirement already satisfied: safetensors>=0.4.1 in /home/bigdata/miniconda3/envs/bda/lib/python3.13/site-packages (from transformers<5.0.0,>=4.41.0->sentence-transformers) (0.4.5)\n",
      "Requirement already satisfied: click>=8.0.0 in /home/bigdata/miniconda3/envs/bda/lib/python3.13/site-packages (from typer>=0.9.0->chromadb) (8.1.7)\n",
      "Requirement already satisfied: shellingham>=1.3.0 in /home/bigdata/miniconda3/envs/bda/lib/python3.13/site-packages (from typer>=0.9.0->chromadb) (1.5.4)\n",
      "Requirement already satisfied: httptools>=0.6.3 in /home/bigdata/miniconda3/envs/bda/lib/python3.13/site-packages (from uvicorn[standard]>=0.18.3->chromadb) (0.6.4)\n",
      "Requirement already satisfied: python-dotenv>=0.13 in /home/bigdata/miniconda3/envs/bda/lib/python3.13/site-packages (from uvicorn[standard]>=0.18.3->chromadb) (1.0.1)\n",
      "Requirement already satisfied: uvloop!=0.15.0,!=0.15.1,>=0.14.0 in /home/bigdata/miniconda3/envs/bda/lib/python3.13/site-packages (from uvicorn[standard]>=0.18.3->chromadb) (0.21.0)\n",
      "Requirement already satisfied: watchfiles>=0.13 in /home/bigdata/miniconda3/envs/bda/lib/python3.13/site-packages (from uvicorn[standard]>=0.18.3->chromadb) (1.0.3)\n",
      "Requirement already satisfied: websockets>=10.4 in /home/bigdata/miniconda3/envs/bda/lib/python3.13/site-packages (from uvicorn[standard]>=0.18.3->chromadb) (14.1)\n",
      "Requirement already satisfied: joblib>=1.2.0 in /home/bigdata/miniconda3/envs/bda/lib/python3.13/site-packages (from scikit-learn->sentence-transformers) (1.4.2)\n",
      "Requirement already satisfied: threadpoolctl>=3.1.0 in /home/bigdata/miniconda3/envs/bda/lib/python3.13/site-packages (from scikit-learn->sentence-transformers) (3.5.0)\n",
      "Requirement already satisfied: cachetools<6.0,>=2.0.0 in /home/bigdata/miniconda3/envs/bda/lib/python3.13/site-packages (from google-auth>=1.0.1->kubernetes>=28.1.0->chromadb) (5.5.0)\n",
      "Requirement already satisfied: pyasn1-modules>=0.2.1 in /home/bigdata/miniconda3/envs/bda/lib/python3.13/site-packages (from google-auth>=1.0.1->kubernetes>=28.1.0->chromadb) (0.4.1)\n",
      "Requirement already satisfied: rsa<5,>=3.1.4 in /home/bigdata/miniconda3/envs/bda/lib/python3.13/site-packages (from google-auth>=1.0.1->kubernetes>=28.1.0->chromadb) (4.9)\n",
      "Requirement already satisfied: zipp>=3.20 in /home/bigdata/miniconda3/envs/bda/lib/python3.13/site-packages (from importlib-metadata<=8.5.0,>=6.0->opentelemetry-api>=1.2.0->chromadb) (3.21.0)\n",
      "Requirement already satisfied: jsonpointer>=1.9 in /home/bigdata/miniconda3/envs/bda/lib/python3.13/site-packages (from jsonpatch<2.0,>=1.33->langchain-core<0.4.0,>=0.3.15->langchain_huggingface) (3.0.0)\n",
      "Requirement already satisfied: requests-toolbelt<2.0.0,>=1.0.0 in /home/bigdata/miniconda3/envs/bda/lib/python3.13/site-packages (from langsmith<0.3,>=0.1.125->langchain-core<0.4.0,>=0.3.15->langchain_huggingface) (1.0.0)\n",
      "Requirement already satisfied: mdurl~=0.1 in /home/bigdata/miniconda3/envs/bda/lib/python3.13/site-packages (from markdown-it-py>=2.2.0->rich>=10.11.0->chromadb) (0.1.2)\n",
      "Requirement already satisfied: charset-normalizer<4,>=2 in /home/bigdata/miniconda3/envs/bda/lib/python3.13/site-packages (from requests->huggingface-hub>=0.20.0->sentence-transformers) (3.4.0)\n",
      "Requirement already satisfied: humanfriendly>=9.1 in /home/bigdata/miniconda3/envs/bda/lib/python3.13/site-packages (from coloredlogs->onnxruntime>=1.14.1->chromadb) (10.0)\n",
      "Requirement already satisfied: MarkupSafe>=2.0 in /home/bigdata/miniconda3/envs/bda/lib/python3.13/site-packages (from jinja2->torch>=1.11.0->sentence-transformers) (2.1.5)\n",
      "Requirement already satisfied: pyasn1<0.7.0,>=0.4.6 in /home/bigdata/miniconda3/envs/bda/lib/python3.13/site-packages (from pyasn1-modules>=0.2.1->google-auth>=1.0.1->kubernetes>=28.1.0->chromadb) (0.6.1)\n"
     ]
    }
   ],
   "source": [
    "!pip install requests\n",
    "!pip install BeautifulSoup4\n",
    "!pip install chromadb sentence-transformers langchain_huggingface langchain_chroma"
   ]
  },
  {
   "cell_type": "code",
   "execution_count": 13,
   "metadata": {},
   "outputs": [
    {
     "name": "stderr",
     "output_type": "stream",
     "text": [
      "huggingface/tokenizers: The current process just got forked, after parallelism has already been used. Disabling parallelism to avoid deadlocks...\n",
      "To disable this warning, you can either:\n",
      "\t- Avoid using `tokenizers` before the fork if possible\n",
      "\t- Explicitly set the environment variable TOKENIZERS_PARALLELISM=(true | false)\n"
     ]
    },
    {
     "name": "stdout",
     "output_type": "stream",
     "text": [
      "Requirement already satisfied: langchain-ollama in /home/bigdata/miniconda3/envs/bda/lib/python3.13/site-packages (0.2.1)\n",
      "Requirement already satisfied: langchain-core<0.4.0,>=0.3.20 in /home/bigdata/miniconda3/envs/bda/lib/python3.13/site-packages (from langchain-ollama) (0.3.26)\n",
      "Requirement already satisfied: ollama<1,>=0.3.0 in /home/bigdata/miniconda3/envs/bda/lib/python3.13/site-packages (from langchain-ollama) (0.4.4)\n",
      "Requirement already satisfied: PyYAML>=5.3 in /home/bigdata/miniconda3/envs/bda/lib/python3.13/site-packages (from langchain-core<0.4.0,>=0.3.20->langchain-ollama) (6.0.2)\n",
      "Requirement already satisfied: jsonpatch<2.0,>=1.33 in /home/bigdata/miniconda3/envs/bda/lib/python3.13/site-packages (from langchain-core<0.4.0,>=0.3.20->langchain-ollama) (1.33)\n",
      "Requirement already satisfied: langsmith<0.3,>=0.1.125 in /home/bigdata/miniconda3/envs/bda/lib/python3.13/site-packages (from langchain-core<0.4.0,>=0.3.20->langchain-ollama) (0.2.3)\n",
      "Requirement already satisfied: packaging<25,>=23.2 in /home/bigdata/miniconda3/envs/bda/lib/python3.13/site-packages (from langchain-core<0.4.0,>=0.3.20->langchain-ollama) (24.2)\n",
      "Requirement already satisfied: pydantic<3.0.0,>=2.7.4 in /home/bigdata/miniconda3/envs/bda/lib/python3.13/site-packages (from langchain-core<0.4.0,>=0.3.20->langchain-ollama) (2.10.4)\n",
      "Requirement already satisfied: tenacity!=8.4.0,<10.0.0,>=8.1.0 in /home/bigdata/miniconda3/envs/bda/lib/python3.13/site-packages (from langchain-core<0.4.0,>=0.3.20->langchain-ollama) (9.0.0)\n",
      "Requirement already satisfied: typing-extensions>=4.7 in /home/bigdata/miniconda3/envs/bda/lib/python3.13/site-packages (from langchain-core<0.4.0,>=0.3.20->langchain-ollama) (4.12.2)\n",
      "Requirement already satisfied: httpx<0.28.0,>=0.27.0 in /home/bigdata/miniconda3/envs/bda/lib/python3.13/site-packages (from ollama<1,>=0.3.0->langchain-ollama) (0.27.2)\n",
      "Requirement already satisfied: anyio in /home/bigdata/miniconda3/envs/bda/lib/python3.13/site-packages (from httpx<0.28.0,>=0.27.0->ollama<1,>=0.3.0->langchain-ollama) (4.7.0)\n",
      "Requirement already satisfied: certifi in /home/bigdata/miniconda3/envs/bda/lib/python3.13/site-packages (from httpx<0.28.0,>=0.27.0->ollama<1,>=0.3.0->langchain-ollama) (2024.12.14)\n",
      "Requirement already satisfied: httpcore==1.* in /home/bigdata/miniconda3/envs/bda/lib/python3.13/site-packages (from httpx<0.28.0,>=0.27.0->ollama<1,>=0.3.0->langchain-ollama) (1.0.7)\n",
      "Requirement already satisfied: idna in /home/bigdata/miniconda3/envs/bda/lib/python3.13/site-packages (from httpx<0.28.0,>=0.27.0->ollama<1,>=0.3.0->langchain-ollama) (3.10)\n",
      "Requirement already satisfied: sniffio in /home/bigdata/miniconda3/envs/bda/lib/python3.13/site-packages (from httpx<0.28.0,>=0.27.0->ollama<1,>=0.3.0->langchain-ollama) (1.3.1)\n",
      "Requirement already satisfied: h11<0.15,>=0.13 in /home/bigdata/miniconda3/envs/bda/lib/python3.13/site-packages (from httpcore==1.*->httpx<0.28.0,>=0.27.0->ollama<1,>=0.3.0->langchain-ollama) (0.14.0)\n",
      "Requirement already satisfied: jsonpointer>=1.9 in /home/bigdata/miniconda3/envs/bda/lib/python3.13/site-packages (from jsonpatch<2.0,>=1.33->langchain-core<0.4.0,>=0.3.20->langchain-ollama) (3.0.0)\n",
      "Requirement already satisfied: orjson<4.0.0,>=3.9.14 in /home/bigdata/miniconda3/envs/bda/lib/python3.13/site-packages (from langsmith<0.3,>=0.1.125->langchain-core<0.4.0,>=0.3.20->langchain-ollama) (3.10.12)\n",
      "Requirement already satisfied: requests<3,>=2 in /home/bigdata/miniconda3/envs/bda/lib/python3.13/site-packages (from langsmith<0.3,>=0.1.125->langchain-core<0.4.0,>=0.3.20->langchain-ollama) (2.32.3)\n",
      "Requirement already satisfied: requests-toolbelt<2.0.0,>=1.0.0 in /home/bigdata/miniconda3/envs/bda/lib/python3.13/site-packages (from langsmith<0.3,>=0.1.125->langchain-core<0.4.0,>=0.3.20->langchain-ollama) (1.0.0)\n",
      "Requirement already satisfied: annotated-types>=0.6.0 in /home/bigdata/miniconda3/envs/bda/lib/python3.13/site-packages (from pydantic<3.0.0,>=2.7.4->langchain-core<0.4.0,>=0.3.20->langchain-ollama) (0.7.0)\n",
      "Requirement already satisfied: pydantic-core==2.27.2 in /home/bigdata/miniconda3/envs/bda/lib/python3.13/site-packages (from pydantic<3.0.0,>=2.7.4->langchain-core<0.4.0,>=0.3.20->langchain-ollama) (2.27.2)\n",
      "Requirement already satisfied: charset-normalizer<4,>=2 in /home/bigdata/miniconda3/envs/bda/lib/python3.13/site-packages (from requests<3,>=2->langsmith<0.3,>=0.1.125->langchain-core<0.4.0,>=0.3.20->langchain-ollama) (3.4.0)\n",
      "Requirement already satisfied: urllib3<3,>=1.21.1 in /home/bigdata/miniconda3/envs/bda/lib/python3.13/site-packages (from requests<3,>=2->langsmith<0.3,>=0.1.125->langchain-core<0.4.0,>=0.3.20->langchain-ollama) (2.2.3)\n"
     ]
    }
   ],
   "source": [
    "!pip install langchain-ollama"
   ]
  },
  {
   "cell_type": "code",
   "execution_count": 14,
   "metadata": {},
   "outputs": [
    {
     "name": "stderr",
     "output_type": "stream",
     "text": [
      "huggingface/tokenizers: The current process just got forked, after parallelism has already been used. Disabling parallelism to avoid deadlocks...\n",
      "To disable this warning, you can either:\n",
      "\t- Avoid using `tokenizers` before the fork if possible\n",
      "\t- Explicitly set the environment variable TOKENIZERS_PARALLELISM=(true | false)\n"
     ]
    },
    {
     "name": "stdout",
     "output_type": "stream",
     "text": [
      "Requirement already satisfied: langchain in /home/bigdata/miniconda3/envs/bda/lib/python3.13/site-packages (0.3.12)\n",
      "Requirement already satisfied: PyYAML>=5.3 in /home/bigdata/miniconda3/envs/bda/lib/python3.13/site-packages (from langchain) (6.0.2)\n",
      "Requirement already satisfied: SQLAlchemy<3,>=1.4 in /home/bigdata/miniconda3/envs/bda/lib/python3.13/site-packages (from langchain) (2.0.36)\n",
      "Requirement already satisfied: aiohttp<4.0.0,>=3.8.3 in /home/bigdata/miniconda3/envs/bda/lib/python3.13/site-packages (from langchain) (3.11.10)\n",
      "Requirement already satisfied: langchain-core<0.4.0,>=0.3.25 in /home/bigdata/miniconda3/envs/bda/lib/python3.13/site-packages (from langchain) (0.3.26)\n",
      "Requirement already satisfied: langchain-text-splitters<0.4.0,>=0.3.3 in /home/bigdata/miniconda3/envs/bda/lib/python3.13/site-packages (from langchain) (0.3.3)\n",
      "Requirement already satisfied: langsmith<0.3,>=0.1.17 in /home/bigdata/miniconda3/envs/bda/lib/python3.13/site-packages (from langchain) (0.2.3)\n",
      "Requirement already satisfied: numpy<3,>=1.26.2 in /home/bigdata/miniconda3/envs/bda/lib/python3.13/site-packages (from langchain) (1.26.4)\n",
      "Requirement already satisfied: pydantic<3.0.0,>=2.7.4 in /home/bigdata/miniconda3/envs/bda/lib/python3.13/site-packages (from langchain) (2.10.4)\n",
      "Requirement already satisfied: requests<3,>=2 in /home/bigdata/miniconda3/envs/bda/lib/python3.13/site-packages (from langchain) (2.32.3)\n",
      "Requirement already satisfied: tenacity!=8.4.0,<10,>=8.1.0 in /home/bigdata/miniconda3/envs/bda/lib/python3.13/site-packages (from langchain) (9.0.0)\n",
      "Requirement already satisfied: aiohappyeyeballs>=2.3.0 in /home/bigdata/miniconda3/envs/bda/lib/python3.13/site-packages (from aiohttp<4.0.0,>=3.8.3->langchain) (2.4.4)\n",
      "Requirement already satisfied: aiosignal>=1.1.2 in /home/bigdata/miniconda3/envs/bda/lib/python3.13/site-packages (from aiohttp<4.0.0,>=3.8.3->langchain) (1.3.2)\n",
      "Requirement already satisfied: attrs>=17.3.0 in /home/bigdata/miniconda3/envs/bda/lib/python3.13/site-packages (from aiohttp<4.0.0,>=3.8.3->langchain) (24.3.0)\n",
      "Requirement already satisfied: frozenlist>=1.1.1 in /home/bigdata/miniconda3/envs/bda/lib/python3.13/site-packages (from aiohttp<4.0.0,>=3.8.3->langchain) (1.5.0)\n",
      "Requirement already satisfied: multidict<7.0,>=4.5 in /home/bigdata/miniconda3/envs/bda/lib/python3.13/site-packages (from aiohttp<4.0.0,>=3.8.3->langchain) (6.1.0)\n",
      "Requirement already satisfied: propcache>=0.2.0 in /home/bigdata/miniconda3/envs/bda/lib/python3.13/site-packages (from aiohttp<4.0.0,>=3.8.3->langchain) (0.2.1)\n",
      "Requirement already satisfied: yarl<2.0,>=1.17.0 in /home/bigdata/miniconda3/envs/bda/lib/python3.13/site-packages (from aiohttp<4.0.0,>=3.8.3->langchain) (1.18.3)\n",
      "Requirement already satisfied: jsonpatch<2.0,>=1.33 in /home/bigdata/miniconda3/envs/bda/lib/python3.13/site-packages (from langchain-core<0.4.0,>=0.3.25->langchain) (1.33)\n",
      "Requirement already satisfied: packaging<25,>=23.2 in /home/bigdata/miniconda3/envs/bda/lib/python3.13/site-packages (from langchain-core<0.4.0,>=0.3.25->langchain) (24.2)\n",
      "Requirement already satisfied: typing-extensions>=4.7 in /home/bigdata/miniconda3/envs/bda/lib/python3.13/site-packages (from langchain-core<0.4.0,>=0.3.25->langchain) (4.12.2)\n",
      "Requirement already satisfied: httpx<1,>=0.23.0 in /home/bigdata/miniconda3/envs/bda/lib/python3.13/site-packages (from langsmith<0.3,>=0.1.17->langchain) (0.27.2)\n",
      "Requirement already satisfied: orjson<4.0.0,>=3.9.14 in /home/bigdata/miniconda3/envs/bda/lib/python3.13/site-packages (from langsmith<0.3,>=0.1.17->langchain) (3.10.12)\n",
      "Requirement already satisfied: requests-toolbelt<2.0.0,>=1.0.0 in /home/bigdata/miniconda3/envs/bda/lib/python3.13/site-packages (from langsmith<0.3,>=0.1.17->langchain) (1.0.0)\n",
      "Requirement already satisfied: annotated-types>=0.6.0 in /home/bigdata/miniconda3/envs/bda/lib/python3.13/site-packages (from pydantic<3.0.0,>=2.7.4->langchain) (0.7.0)\n",
      "Requirement already satisfied: pydantic-core==2.27.2 in /home/bigdata/miniconda3/envs/bda/lib/python3.13/site-packages (from pydantic<3.0.0,>=2.7.4->langchain) (2.27.2)\n",
      "Requirement already satisfied: charset-normalizer<4,>=2 in /home/bigdata/miniconda3/envs/bda/lib/python3.13/site-packages (from requests<3,>=2->langchain) (3.4.0)\n",
      "Requirement already satisfied: idna<4,>=2.5 in /home/bigdata/miniconda3/envs/bda/lib/python3.13/site-packages (from requests<3,>=2->langchain) (3.10)\n",
      "Requirement already satisfied: urllib3<3,>=1.21.1 in /home/bigdata/miniconda3/envs/bda/lib/python3.13/site-packages (from requests<3,>=2->langchain) (2.2.3)\n",
      "Requirement already satisfied: certifi>=2017.4.17 in /home/bigdata/miniconda3/envs/bda/lib/python3.13/site-packages (from requests<3,>=2->langchain) (2024.12.14)\n",
      "Requirement already satisfied: anyio in /home/bigdata/miniconda3/envs/bda/lib/python3.13/site-packages (from httpx<1,>=0.23.0->langsmith<0.3,>=0.1.17->langchain) (4.7.0)\n",
      "Requirement already satisfied: httpcore==1.* in /home/bigdata/miniconda3/envs/bda/lib/python3.13/site-packages (from httpx<1,>=0.23.0->langsmith<0.3,>=0.1.17->langchain) (1.0.7)\n",
      "Requirement already satisfied: sniffio in /home/bigdata/miniconda3/envs/bda/lib/python3.13/site-packages (from httpx<1,>=0.23.0->langsmith<0.3,>=0.1.17->langchain) (1.3.1)\n",
      "Requirement already satisfied: h11<0.15,>=0.13 in /home/bigdata/miniconda3/envs/bda/lib/python3.13/site-packages (from httpcore==1.*->httpx<1,>=0.23.0->langsmith<0.3,>=0.1.17->langchain) (0.14.0)\n",
      "Requirement already satisfied: jsonpointer>=1.9 in /home/bigdata/miniconda3/envs/bda/lib/python3.13/site-packages (from jsonpatch<2.0,>=1.33->langchain-core<0.4.0,>=0.3.25->langchain) (3.0.0)\n"
     ]
    }
   ],
   "source": [
    "!pip install langchain"
   ]
  },
  {
   "cell_type": "code",
   "execution_count": 15,
   "metadata": {},
   "outputs": [],
   "source": [
    "import requests\n",
    "from bs4 import BeautifulSoup\n",
    "from langchain_ollama.chat_models import ChatOllama\n",
    "from langchain.text_splitter import RecursiveCharacterTextSplitter\n",
    "from langchain_huggingface import HuggingFaceEmbeddings\n",
    "from langchain_chroma import Chroma\n",
    "from langchain_core.output_parsers import StrOutputParser\n",
    "from langchain.prompts import ChatPromptTemplate\n",
    "from langchain_core.runnables import RunnableLambda, RunnablePassthrough"
   ]
  },
  {
   "cell_type": "code",
   "execution_count": null,
   "metadata": {},
   "outputs": [],
   "source": [
    "import requests\n",
    "from bs4 import BeautifulSoup\n",
    "\n",
    "url = 'https://en.wikipedia.org/wiki/Lionel_Messi'\n",
    "\n",
    "response = requests.get(url)\n",
    "\n",
    "if response.status_code == 200:\n",
    "    soup = BeautifulSoup(response.text, 'html.parser')\n",
    "    page_text = soup.get_text(separator=' ', strip=True)\n",
    "    text_splitter = RecursiveCharacterTextSplitter(chunk_size=400, chunk_overlap=20)\n",
    "    web_texts = text_splitter.split_text(page_text)\n",
    "    print(web_texts)\n",
    "else:\n",
    "    print(f'No se pudo acceder a la página: {response.status_code}')"
   ]
  },
  {
   "cell_type": "code",
   "execution_count": 17,
   "metadata": {},
   "outputs": [],
   "source": [
    "embeddings = HuggingFaceEmbeddings(model_name=\"sentence-transformers/all-mpnet-base-v2\")"
   ]
  },
  {
   "cell_type": "code",
   "execution_count": 18,
   "metadata": {},
   "outputs": [],
   "source": [
    "bbdd_vector = Chroma.from_texts(\n",
    "    texts=web_texts,\n",
    "    collection_name=\"players\",\n",
    "    embedding=embeddings,\n",
    ")"
   ]
  },
  {
   "cell_type": "code",
   "execution_count": 19,
   "metadata": {},
   "outputs": [],
   "source": [
    "retriever = bbdd_vector.as_retriever()"
   ]
  },
  {
   "cell_type": "code",
   "execution_count": 20,
   "metadata": {},
   "outputs": [
    {
     "data": {
      "text/plain": [
       "\"Lionel Messi is an Argentine international who plays as a forward, widely regarded as one of the greatest players of all time. He has won numerous records for individual accolades, including eight Ballon d'Or awards and eight times being named the world's best player by FIFA.\""
      ]
     },
     "execution_count": 20,
     "metadata": {},
     "output_type": "execute_result"
    }
   ],
   "source": [
    "template = \"\"\"Answer the question based only on the following context:\n",
    "{context}\n",
    "\n",
    "Question: {question}\n",
    "\"\"\"\n",
    "prompt = ChatPromptTemplate.from_template(template)\n",
    "\n",
    "llm = \"llama3.2\"\n",
    "modelo = ChatOllama(model=llm)\n",
    "\n",
    "chain = (\n",
    "    {\"context\": retriever, \"question\": RunnablePassthrough()}| prompt| modelo| StrOutputParser()\n",
    ")\n",
    "chain.invoke(\"Who is Lionel Messi?\")"
   ]
  }
 ],
 "metadata": {
  "kernelspec": {
   "display_name": "bda",
   "language": "python",
   "name": "python3"
  },
  "language_info": {
   "codemirror_mode": {
    "name": "ipython",
    "version": 3
   },
   "file_extension": ".py",
   "mimetype": "text/x-python",
   "name": "python",
   "nbconvert_exporter": "python",
   "pygments_lexer": "ipython3",
   "version": "3.13.0"
  }
 },
 "nbformat": 4,
 "nbformat_minor": 2
}
